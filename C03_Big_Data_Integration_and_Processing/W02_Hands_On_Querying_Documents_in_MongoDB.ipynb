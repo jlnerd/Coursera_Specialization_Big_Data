{
 "cells": [
  {
   "cell_type": "markdown",
   "metadata": {},
   "source": [
    "https://rsandstroem.github.io/MongoDBDemo.html"
   ]
  },
  {
   "cell_type": "code",
   "execution_count": 4,
   "metadata": {
    "scrolled": true
   },
   "outputs": [
    {
     "name": "stdout",
     "output_type": "stream",
     "text": [
      "Collecting pymongo\n",
      "\u001b[?25l  Downloading https://files.pythonhosted.org/packages/b6/89/f489ad916e8543c976b67d99a46c4bd7e72bf59c3afb323703fe369332bd/pymongo-3.7.2-cp36-cp36m-macosx_10_9_x86_64.whl (307kB)\n",
      "\u001b[K    100% |████████████████████████████████| 317kB 5.8MB/s ta 0:00:01\n",
      "\u001b[?25hInstalling collected packages: pymongo\n",
      "Successfully installed pymongo-3.7.2\n",
      "\u001b[33mYou are using pip version 10.0.1, however version 18.1 is available.\n",
      "You should consider upgrading via the 'pip install --upgrade pip' command.\u001b[0m\n"
     ]
    }
   ],
   "source": [
    "!pip install pymongo"
   ]
  },
  {
   "cell_type": "code",
   "execution_count": 5,
   "metadata": {},
   "outputs": [],
   "source": [
    "import os\n",
    "import pandas as pd\n",
    "import numpy as np\n",
    "from IPython.core.display import display, HTML\n",
    "import pymongo\n",
    "from pymongo import MongoClient"
   ]
  },
  {
   "cell_type": "code",
   "execution_count": 8,
   "metadata": {},
   "outputs": [
    {
     "name": "stdout",
     "output_type": "stream",
     "text": [
      "Mongo Version 3.7.2\n"
     ]
    }
   ],
   "source": [
    "print( 'Mongo Version',pymongo.__version__)"
   ]
  },
  {
   "cell_type": "code",
   "execution_count": 15,
   "metadata": {},
   "outputs": [],
   "source": [
    "client = MongoClient('localhost',27017)\n",
    "db = client.test\n",
    "collection = db.users"
   ]
  },
  {
   "cell_type": "code",
   "execution_count": 16,
   "metadata": {},
   "outputs": [
    {
     "data": {
      "text/plain": [
       "0"
      ]
     },
     "execution_count": 16,
     "metadata": {},
     "output_type": "execute_result"
    }
   ],
   "source": [
    "#Import data\n",
    "collection.drop()\n",
    "os.system('mongoimport -d test -c people ~/Documents/Certificate_Courses/Coursera_Specialization_Big_Data/Course_Data/big-data-3/mongodb/dump/journaldev/users.metadata.json')"
   ]
  },
  {
   "cell_type": "code",
   "execution_count": 19,
   "metadata": {
    "scrolled": false
   },
   "outputs": [
    {
     "name": "stdout",
     "output_type": "stream",
     "text": [
      "MongoDB shell version v4.0.3\n",
      "connecting to: mongodb://127.0.0.1:27017\n",
      "Implicit session: session { \"id\" : UUID(\"9eb0d821-e574-4f00-b6f2-9bbaad0808eb\") }\n",
      "MongoDB server version: 4.0.3\n",
      "Server has startup warnings: \n",
      "2018-11-07T22:55:07.405-0800 I CONTROL  [initandlisten] \n",
      "2018-11-07T22:55:07.405-0800 I CONTROL  [initandlisten] ** WARNING: Access control is not enabled for the database.\n",
      "2018-11-07T22:55:07.405-0800 I CONTROL  [initandlisten] **          Read and write access to data and configuration is unrestricted.\n",
      "2018-11-07T22:55:07.405-0800 I CONTROL  [initandlisten] \n",
      "---\n",
      "Enable MongoDB's free cloud-based monitoring service, which will then receive and display\n",
      "metrics about your deployment (disk utilization, CPU, operation statistics, etc).\n",
      "\n",
      "The monitoring data will be available on a MongoDB website with a unique URL accessible to you\n",
      "and anyone you share the URL with. MongoDB may use this information to make product\n",
      "improvements and to suggest MongoDB products and deployment options to you.\n",
      "\n",
      "To enable free monitoring, run the following command: db.enableFreeMonitoring()\n",
      "To permanently disable this reminder, run the following command: db.disableFreeMonitoring()\n",
      "---\n",
      "\n",
      "> \u001b[3G\u001b[J\u001b[3G^C\n",
      "bye\n"
     ]
    }
   ],
   "source": [
    "!mongo"
   ]
  },
  {
   "cell_type": "code",
   "execution_count": 21,
   "metadata": {},
   "outputs": [
    {
     "name": "stdout",
     "output_type": "stream",
     "text": [
      "MongoDB shell version v4.0.3\n",
      "connecting to: mongodb://127.0.0.1:27017/show\n",
      "Implicit session: session { \"id\" : UUID(\"f95d8d4f-b4db-4b74-b0c2-c84e85014dfc\") }\n",
      "MongoDB server version: 4.0.3\n",
      "2018-11-08T07:44:39.119-0800 E -        [main] file [dbs] doesn't exist\n",
      "failed to load: dbs\n"
     ]
    }
   ],
   "source": [
    "!mongo show dbs"
   ]
  },
  {
   "cell_type": "code",
   "execution_count": null,
   "metadata": {},
   "outputs": [],
   "source": []
  }
 ],
 "metadata": {
  "kernelspec": {
   "display_name": "Python 3",
   "language": "python",
   "name": "python3"
  },
  "language_info": {
   "codemirror_mode": {
    "name": "ipython",
    "version": 3
   },
   "file_extension": ".py",
   "mimetype": "text/x-python",
   "name": "python",
   "nbconvert_exporter": "python",
   "pygments_lexer": "ipython3",
   "version": "3.6.5"
  }
 },
 "nbformat": 4,
 "nbformat_minor": 2
}
